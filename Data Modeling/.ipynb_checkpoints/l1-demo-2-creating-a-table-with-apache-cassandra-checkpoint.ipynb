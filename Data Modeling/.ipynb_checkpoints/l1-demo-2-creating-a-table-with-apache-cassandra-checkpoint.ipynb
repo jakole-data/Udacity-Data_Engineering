{
 "cells": [
  {
   "cell_type": "markdown",
   "metadata": {
    "toc": true
   },
   "source": [
    "<h1>Table of Contents<span class=\"tocSkip\"></span></h1>\n",
    "<div class=\"toc\"><ul class=\"toc-item\"><li><span><a href=\"#Lesson-1-Demo-2:-Creating-a-Table-with-Apache-Cassandra\" data-toc-modified-id=\"Lesson-1-Demo-2:-Creating-a-Table-with-Apache-Cassandra-1\">Lesson 1 Demo 2: Creating a Table with Apache Cassandra</a></span><ul class=\"toc-item\"><li><span><a href=\"#Walk-through-the-basics-of-Apache-Cassandra:Creating-a-table-Inserting-rows-of-dataRunning-a-simple-SQL-query-to-validate-the-information.\" data-toc-modified-id=\"Walk-through-the-basics-of-Apache-Cassandra:Creating-a-table-Inserting-rows-of-dataRunning-a-simple-SQL-query-to-validate-the-information.-1.1\">Walk through the basics of Apache Cassandra:<br><li>Creating a table </li><li>Inserting rows of data</li><li>Running a simple SQL query to validate the information.</li></a></span><ul class=\"toc-item\"><li><span><a href=\"#Use-a-python-wrapper/-python-driver-called-cassandra-to-run-the-Apache-Cassandra-queries.-This-library-should-be-preinstalled-but-in-the-future-to-install-this-library-you-can-run-this-command-in-a-notebook-to-install-locally:\" data-toc-modified-id=\"Use-a-python-wrapper/-python-driver-called-cassandra-to-run-the-Apache-Cassandra-queries.-This-library-should-be-preinstalled-but-in-the-future-to-install-this-library-you-can-run-this-command-in-a-notebook-to-install-locally:-1.1.1\">Use a python wrapper/ python driver called cassandra to run the Apache Cassandra queries. This library should be preinstalled but in the future to install this library you can run this command in a notebook to install locally:</a></span></li><li><span><a href=\"#Import-Apache-Cassandra-python-package\" data-toc-modified-id=\"Import-Apache-Cassandra-python-package-1.1.2\">Import Apache Cassandra python package</a></span></li><li><span><a href=\"#Create-a-connection-to-the-database\" data-toc-modified-id=\"Create-a-connection-to-the-database-1.1.3\">Create a connection to the database</a></span></li><li><span><a href=\"#Test-the-Connection-and-Error-Handling-Code\" data-toc-modified-id=\"Test-the-Connection-and-Error-Handling-Code-1.1.4\">Test the Connection and Error Handling Code</a></span></li><li><span><a href=\"#Create-a-keyspace-to-the-work-in\" data-toc-modified-id=\"Create-a-keyspace-to-the-work-in-1.1.5\">Create a keyspace to the work in</a></span></li><li><span><a href=\"#Connect-to-our-Keyspace.\" data-toc-modified-id=\"Connect-to-our-Keyspace.-1.1.6\">Connect to our Keyspace.<br></a></span></li><li><span><a href=\"#Begin-with-creating-a-Music-Library-of-albums.-Each-album-has-a-lot-of-information-we-could-add-to-the-music-library-table.-We-will--start-with-album-name,-artist-name,-year.\" data-toc-modified-id=\"Begin-with-creating-a-Music-Library-of-albums.-Each-album-has-a-lot-of-information-we-could-add-to-the-music-library-table.-We-will--start-with-album-name,-artist-name,-year.-1.1.7\">Begin with creating a Music Library of albums. Each album has a lot of information we could add to the music library table. We will  start with album name, artist name, year.</a></span></li><li><span><a href=\"#But-...Stop\" data-toc-modified-id=\"But-...Stop-1.1.8\">But ...Stop</a></span></li><li><span><a href=\"#We-are-working-with-Apache-Cassandra-a-NoSQL-database.-We-can't-model-our-data-and-create-our-table-without-more-information.\" data-toc-modified-id=\"We-are-working-with-Apache-Cassandra-a-NoSQL-database.-We-can't-model-our-data-and-create-our-table-without-more-information.-1.1.9\">We are working with Apache Cassandra a NoSQL database. We can't model our data and create our table without more information.</a></span></li><li><span><a href=\"#Think-about-what-queries-will-you-be-performing-on-this-data?\" data-toc-modified-id=\"Think-about-what-queries-will-you-be-performing-on-this-data?-1.1.10\">Think about what queries will you be performing on this data?</a></span><ul class=\"toc-item\"><li><span><a href=\"#We-want-to-be-able-to-get-every-album-that-was-released-in-a-particular-year.\" data-toc-modified-id=\"We-want-to-be-able-to-get-every-album-that-was-released-in-a-particular-year.-1.1.10.1\">We want to be able to get every album that was released in a particular year.</a></span></li></ul></li><li><span><a href=\"#Now-to-translate-this-information-into-a-Create-Table-Statement.\" data-toc-modified-id=\"Now-to-translate-this-information-into-a-Create-Table-Statement.-1.1.11\">Now to translate this information into a Create Table Statement.</a></span></li><li><span><a href=\"#Insert-two-rows\" data-toc-modified-id=\"Insert-two-rows-1.1.12\">Insert two rows</a></span></li><li><span><a href=\"#Validate-your-data-was-inserted-into-the-table.\" data-toc-modified-id=\"Validate-your-data-was-inserted-into-the-table.-1.1.13\">Validate your data was inserted into the table.</a></span></li><li><span><a href=\"#Validate-the-Data-Model-with-the-original-query.\" data-toc-modified-id=\"Validate-the-Data-Model-with-the-original-query.-1.1.14\">Validate the Data Model with the original query.</a></span></li><li><span><a href=\"#Drop-the-table-to-avoid-duplicates-and-clean-up.\" data-toc-modified-id=\"Drop-the-table-to-avoid-duplicates-and-clean-up.-1.1.15\">Drop the table to avoid duplicates and clean up.</a></span></li><li><span><a href=\"#Close-the-session-and-cluster-connection\" data-toc-modified-id=\"Close-the-session-and-cluster-connection-1.1.16\">Close the session and cluster connection</a></span></li></ul></li></ul></li></ul></div>"
   ]
  },
  {
   "cell_type": "markdown",
   "metadata": {},
   "source": [
    "# Lesson 1 Demo 2: Creating a Table with Apache Cassandra\n",
    "\n",
    "\n",
    "img file = Cassandralogo"
   ]
  },
  {
   "cell_type": "markdown",
   "metadata": {},
   "source": [
    "## Walk through the basics of Apache Cassandra:<br><li>Creating a table <li>Inserting rows of data<li>Running a simple SQL query to validate the information. "
   ]
  },
  {
   "cell_type": "markdown",
   "metadata": {},
   "source": [
    "### Use a python wrapper/ python driver called cassandra to run the Apache Cassandra queries. This library should be preinstalled but in the future to install this library you can run this command in a notebook to install locally: \n",
    "`! pip install cassandra-driver`<br>\n",
    "More documentation can be found here:  https://datastax.github.io/python-driver/"
   ]
  },
  {
   "cell_type": "code",
   "execution_count": 1,
   "metadata": {},
   "outputs": [],
   "source": [
    "# ! pip install cassandra-driver"
   ]
  },
  {
   "cell_type": "markdown",
   "metadata": {},
   "source": [
    "### Import Apache Cassandra python package"
   ]
  },
  {
   "cell_type": "code",
   "execution_count": 2,
   "metadata": {},
   "outputs": [],
   "source": [
    "import cassandra"
   ]
  },
  {
   "cell_type": "markdown",
   "metadata": {},
   "source": [
    "### Create a connection to the database\n",
    "1. Connect to the local instance of Apache Cassandra *['127.0.0.1']*.\n",
    "2. The connection reaches out to the database (*studentdb*) and uses the correct privileges to connect to the database (*user and password = student*).\n",
    "3. Once we get back the cluster object, we need to connect and that will create our session that we will use to execute queries.<BR><BR>\n",
    "    \n",
    "*Note 1:* This block of code will be standard in all notebooks"
   ]
  },
  {
   "cell_type": "code",
   "execution_count": 3,
   "metadata": {},
   "outputs": [],
   "source": [
    "from cassandra.cluster import Cluster\n",
    "try: \n",
    "    cluster = Cluster(['127.0.0.1']) #If you have a locally installed Apache Cassandra instance\n",
    "    session = cluster.connect()\n",
    "except Exception as e:\n",
    "    print(e)\n",
    " "
   ]
  },
  {
   "cell_type": "markdown",
   "metadata": {},
   "source": [
    "### Test the Connection and Error Handling Code\n",
    "*Note:* The try-except block should handle the error: We are trying to do a `select *` on a table but the table has not been created yet."
   ]
  },
  {
   "cell_type": "code",
   "execution_count": 4,
   "metadata": {},
   "outputs": [
    {
     "name": "stdout",
     "output_type": "stream",
     "text": [
      "Error from server: code=2200 [Invalid query] message=\"No keyspace has been specified. USE a keyspace, or explicitly specify keyspace.tablename\"\n"
     ]
    }
   ],
   "source": [
    "try: \n",
    "    session.execute(\"\"\"select * from music_libary\"\"\")\n",
    "except Exception as e:\n",
    "    print(e)\n",
    " "
   ]
  },
  {
   "cell_type": "markdown",
   "metadata": {},
   "source": [
    "### Create a keyspace to the work in \n",
    "*Note:* We will ignore the Replication Strategy and factor information right now as those concepts are covered in depth in Lesson 3. Remember, this will be the strategy and replication factor on a one node local instance. "
   ]
  },
  {
   "cell_type": "code",
   "execution_count": 5,
   "metadata": {},
   "outputs": [],
   "source": [
    "try:\n",
    "    session.execute(\"\"\"\n",
    "    CREATE KEYSPACE IF NOT EXISTS udacity \n",
    "    WITH REPLICATION = \n",
    "    { 'class' : 'SimpleStrategy', 'replication_factor' : 1 }\"\"\"\n",
    ")\n",
    "\n",
    "except Exception as e:\n",
    "    print(e)"
   ]
  },
  {
   "cell_type": "markdown",
   "metadata": {},
   "source": [
    "### Connect to our Keyspace.<br>\n",
    "*Compare this to how a new session in PostgreSQL is created.*"
   ]
  },
  {
   "cell_type": "code",
   "execution_count": 6,
   "metadata": {},
   "outputs": [],
   "source": [
    "try:\n",
    "    session.set_keyspace('udacity')\n",
    "except Exception as e:\n",
    "    print(e)"
   ]
  },
  {
   "cell_type": "markdown",
   "metadata": {},
   "source": [
    "### Begin with creating a Music Library of albums. Each album has a lot of information we could add to the music library table. We will  start with album name, artist name, year. "
   ]
  },
  {
   "cell_type": "markdown",
   "metadata": {},
   "source": [
    "### But ...Stop\n",
    "\n",
    "### We are working with Apache Cassandra a NoSQL database. We can't model our data and create our table without more information.\n",
    "\n",
    "### Think about what queries will you be performing on this data?"
   ]
  },
  {
   "cell_type": "markdown",
   "metadata": {},
   "source": [
    "#### We want to be able to get every album that was released in a particular year. \n",
    "`select * from music_library WHERE YEAR=1970`\n",
    "\n",
    "*To do that:* <ol><li> We need to be able to do a WHERE on YEAR. <li>YEAR will become my partition key,<li>artist name will be my clustering column to make each Primary Key unique. <li>**Remember there are no duplicates in Apache Cassandra.**</ol>\n",
    "\n",
    "**Table Name:** music_library<br>\n",
    "**column 1:** Album Name<br>\n",
    "**column 2:** Artist Name<br>\n",
    "**column 3:** Year <br>\n",
    "PRIMARY KEY(year, artist name)\n",
    "\n",
    "\n",
    "### Now to translate this information into a Create Table Statement. \n",
    "More information on Data Types can be found here: https://datastax.github.io/python-driver/<br>\n",
    "*Note:* Again, we will go in depth with these concepts in Lesson 3."
   ]
  },
  {
   "cell_type": "code",
   "execution_count": 7,
   "metadata": {},
   "outputs": [],
   "source": [
    "query = \"CREATE TABLE IF NOT EXISTS music_library \"\n",
    "query = query + \"(year int, artist_name text, album_name text, PRIMARY KEY (year, artist_name))\"\n",
    "try:\n",
    "    session.execute(query)\n",
    "except Exception as e:\n",
    "    print(e)\n"
   ]
  },
  {
   "cell_type": "markdown",
   "metadata": {},
   "source": [
    "The query should run smoothly."
   ]
  },
  {
   "cell_type": "markdown",
   "metadata": {},
   "source": [
    "### Insert two rows "
   ]
  },
  {
   "cell_type": "code",
   "execution_count": 8,
   "metadata": {},
   "outputs": [],
   "source": [
    "query = \"INSERT INTO music_library (year, artist_name, album_name)\"\n",
    "query = query + \" VALUES (%s, %s, %s)\"\n",
    "\n",
    "try:\n",
    "    session.execute(query, (1970, \"The Beatles\", \"Let it Be\"))\n",
    "except Exception as e:\n",
    "    print(e)\n",
    "    \n",
    "try:\n",
    "    session.execute(query, (1965, \"The Beatles\", \"Rubber Soul\"))\n",
    "except Exception as e:\n",
    "    print(e)"
   ]
  },
  {
   "cell_type": "markdown",
   "metadata": {},
   "source": [
    "### Validate your data was inserted into the table.\n",
    "*Note:* The for loop is used for printing the results. If executing queries in the cqlsh, this would not be required.\n",
    "\n",
    "*Note:* Depending on the version of Apache Cassandra you have installed, this might throw an \"ALLOW FILTERING\" error instead of printing the 2 rows that we just inserted. This is to be expected, as this type of query should not be performed on large datasets, we are only doing this for the sake of the demo."
   ]
  },
  {
   "cell_type": "code",
   "execution_count": 9,
   "metadata": {
    "scrolled": true
   },
   "outputs": [
    {
     "name": "stdout",
     "output_type": "stream",
     "text": [
      "1965 Rubber Soul The Beatles\n",
      "1970 Let it Be The Beatles\n"
     ]
    }
   ],
   "source": [
    "query = 'SELECT * FROM music_library'\n",
    "try:\n",
    "    rows = session.execute(query)\n",
    "except Exception as e:\n",
    "    print(e)\n",
    "    \n",
    "for row in rows:\n",
    "    print (row.year, row.album_name, row.artist_name)"
   ]
  },
  {
   "cell_type": "markdown",
   "metadata": {},
   "source": [
    "### Validate the Data Model with the original query.\n",
    "\n",
    "`select * from music_library WHERE YEAR=1970`"
   ]
  },
  {
   "cell_type": "code",
   "execution_count": 10,
   "metadata": {},
   "outputs": [
    {
     "name": "stdout",
     "output_type": "stream",
     "text": [
      "1970 Let it Be The Beatles\n"
     ]
    }
   ],
   "source": [
    "query = \"select * from music_library WHERE YEAR=1970\"\n",
    "try:\n",
    "    rows = session.execute(query)\n",
    "except Exception as e:\n",
    "    print(e)\n",
    "    \n",
    "for row in rows:\n",
    "    print (row.year, row.album_name, row.artist_name)"
   ]
  },
  {
   "cell_type": "markdown",
   "metadata": {},
   "source": [
    "### Drop the table to avoid duplicates and clean up. "
   ]
  },
  {
   "cell_type": "code",
   "execution_count": 11,
   "metadata": {},
   "outputs": [],
   "source": [
    "query = \"drop table music_library\"\n",
    "try:\n",
    "    rows = session.execute(query)\n",
    "except Exception as e:\n",
    "    print(e)\n",
    "    "
   ]
  },
  {
   "cell_type": "markdown",
   "metadata": {},
   "source": [
    "### Close the session and cluster connection"
   ]
  },
  {
   "cell_type": "code",
   "execution_count": 12,
   "metadata": {},
   "outputs": [],
   "source": [
    "session.shutdown()\n",
    "cluster.shutdown()"
   ]
  }
 ],
 "metadata": {
  "kernelspec": {
   "display_name": "Python 3 (ipykernel)",
   "language": "python",
   "name": "python3"
  },
  "language_info": {
   "codemirror_mode": {
    "name": "ipython",
    "version": 3
   },
   "file_extension": ".py",
   "mimetype": "text/x-python",
   "name": "python",
   "nbconvert_exporter": "python",
   "pygments_lexer": "ipython3",
   "version": "3.9.7"
  },
  "toc": {
   "base_numbering": 1,
   "nav_menu": {},
   "number_sections": false,
   "sideBar": true,
   "skip_h1_title": false,
   "title_cell": "Table of Contents",
   "title_sidebar": "Contents",
   "toc_cell": true,
   "toc_position": {},
   "toc_section_display": true,
   "toc_window_display": true
  }
 },
 "nbformat": 4,
 "nbformat_minor": 2
}
