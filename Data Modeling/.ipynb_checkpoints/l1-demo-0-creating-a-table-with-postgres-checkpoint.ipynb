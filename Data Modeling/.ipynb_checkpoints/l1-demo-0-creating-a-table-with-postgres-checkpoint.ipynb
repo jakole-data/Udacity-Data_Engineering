{
 "cells": [
  {
   "cell_type": "markdown",
   "metadata": {
    "toc": true
   },
   "source": [
    "<h1>Table of Contents<span class=\"tocSkip\"></span></h1>\n",
    "<div class=\"toc\"><ul class=\"toc-item\"><li><span><a href=\"#Lesson-1-Demo-0:-PostgreSQL-and-AutoCommits\" data-toc-modified-id=\"Lesson-1-Demo-0:-PostgreSQL-and-AutoCommits-1\"><span class=\"toc-item-num\">1&nbsp;&nbsp;</span>Lesson 1 Demo 0: PostgreSQL and AutoCommits</a></span><ul class=\"toc-item\"><li><span><a href=\"#Walk-through-the-basics-of-PostgreSQL-autocommits\" data-toc-modified-id=\"Walk-through-the-basics-of-PostgreSQL-autocommits-1.1\"><span class=\"toc-item-num\">1.1&nbsp;&nbsp;</span>Walk through the basics of PostgreSQL autocommits</a></span><ul class=\"toc-item\"><li><span><a href=\"#Create-a-connection-to-the-database\" data-toc-modified-id=\"Create-a-connection-to-the-database-1.1.1\"><span class=\"toc-item-num\">1.1.1&nbsp;&nbsp;</span>Create a connection to the database</a></span></li><li><span><a href=\"#Use-the-connection-to-get-a-cursor-that-will-be-used-to-execute-queries.\" data-toc-modified-id=\"Use-the-connection-to-get-a-cursor-that-will-be-used-to-execute-queries.-1.1.2\"><span class=\"toc-item-num\">1.1.2&nbsp;&nbsp;</span>Use the connection to get a cursor that will be used to execute queries.</a></span></li><li><span><a href=\"#Create-a-database-to-work-in\" data-toc-modified-id=\"Create-a-database-to-work-in-1.1.3\"><span class=\"toc-item-num\">1.1.3&nbsp;&nbsp;</span>Create a database to work in</a></span></li><li><span><a href=\"#Error-occurs,-but-it-was-to-be-expected-because-table-has-not-been-created-as-yet.-To-fix-the-error,-create-the-table.\" data-toc-modified-id=\"Error-occurs,-but-it-was-to-be-expected-because-table-has-not-been-created-as-yet.-To-fix-the-error,-create-the-table.-1.1.4\"><span class=\"toc-item-num\">1.1.4&nbsp;&nbsp;</span>Error occurs, but it was to be expected because table has not been created as yet. To fix the error, create the table.</a></span></li><li><span><a href=\"#Error-indicates-we-cannot-execute-this-query.-Since-we-have-not-committed-the-transaction-and-had-an-error-in-the-transaction-block,-we-are-blocked-until-we-restart-the-connection.\" data-toc-modified-id=\"Error-indicates-we-cannot-execute-this-query.-Since-we-have-not-committed-the-transaction-and-had-an-error-in-the-transaction-block,-we-are-blocked-until-we-restart-the-connection.-1.1.5\"><span class=\"toc-item-num\">1.1.5&nbsp;&nbsp;</span>Error indicates we cannot execute this query. Since we have not committed the transaction and had an error in the transaction block, we are blocked until we restart the connection.</a></span></li><li><span><a href=\"#Once-autocommit-is-set-to-true,-we-execute-this-code-successfully.-There-were-no-issues-with-transaction-blocks-and-we-did-not-need-to-restart-our-connection.\" data-toc-modified-id=\"Once-autocommit-is-set-to-true,-we-execute-this-code-successfully.-There-were-no-issues-with-transaction-blocks-and-we-did-not-need-to-restart-our-connection.-1.1.6\"><span class=\"toc-item-num\">1.1.6&nbsp;&nbsp;</span>Once autocommit is set to true, we execute this code successfully. There were no issues with transaction blocks and we did not need to restart our connection.</a></span></li></ul></li></ul></li></ul></div>"
   ]
  },
  {
   "cell_type": "markdown",
   "metadata": {},
   "source": [
    "# Lesson 1 Demo 0: PostgreSQL and AutoCommits\n",
    "\n",
    "<img src=\"images/postgresSQLlogo.png\" width=\"250\" height=\"250\">"
   ]
  },
  {
   "cell_type": "markdown",
   "metadata": {},
   "source": [
    "## Walk through the basics of PostgreSQL autocommits "
   ]
  },
  {
   "cell_type": "code",
   "execution_count": null,
   "metadata": {},
   "outputs": [],
   "source": [
    "## import postgreSQL adapter for the Python\n",
    "import psycopg2"
   ]
  },
  {
   "cell_type": "markdown",
   "metadata": {},
   "source": [
    "### Create a connection to the database\n",
    "1. Connect to the local instance of PostgreSQL (*127.0.0.1*)\n",
    "2. Use the database/schema from the instance. \n",
    "3. The connection reaches out to the database (*studentdb*) and use the correct privilages to connect to the database (*user and password = student*)."
   ]
  },
  {
   "cell_type": "code",
   "execution_count": null,
   "metadata": {},
   "outputs": [],
   "source": [
    "conn = psycopg2.connect(\"host=127.0.0.1 dbname=studentdb user=elokaj password=test123\")\n",
    "conn.set_session(autocommit=True)"
   ]
  },
  {
   "cell_type": "markdown",
   "metadata": {},
   "source": [
    "### Use the connection to get a cursor that will be used to execute queries."
   ]
  },
  {
   "cell_type": "code",
   "execution_count": null,
   "metadata": {},
   "outputs": [],
   "source": [
    "cur = conn.cursor()"
   ]
  },
  {
   "cell_type": "code",
   "execution_count": null,
   "metadata": {},
   "outputs": [],
   "source": [
    "# Database name\n",
    "name_Database = \"studentdb\";\n",
    "\n",
    "\n",
    "# Create table statement\n",
    "sqlCreateDatabase = \"create database \"+name_Database+\";\"\n",
    "\n",
    "\n",
    "# Create a table in PostgreSQL database\n",
    "cur.execute(sqlCreateDatabase);"
   ]
  },
  {
   "cell_type": "markdown",
   "metadata": {},
   "source": [
    "### Create a database to work in"
   ]
  },
  {
   "cell_type": "code",
   "execution_count": null,
   "metadata": {},
   "outputs": [],
   "source": [
    "cur.execute(\"select * from test\")"
   ]
  },
  {
   "cell_type": "markdown",
   "metadata": {},
   "source": [
    "### Error occurs, but it was to be expected because table has not been created as yet. To fix the error, create the table. "
   ]
  },
  {
   "cell_type": "code",
   "execution_count": null,
   "metadata": {},
   "outputs": [],
   "source": [
    "cur.execute(\"CREATE TABLE test (col1 int, col2 int, col3 int);\")"
   ]
  },
  {
   "cell_type": "markdown",
   "metadata": {},
   "source": [
    "### Error indicates we cannot execute this query. Since we have not committed the transaction and had an error in the transaction block, we are blocked until we restart the connection."
   ]
  },
  {
   "cell_type": "code",
   "execution_count": null,
   "metadata": {},
   "outputs": [],
   "source": [
    "conn = psycopg2.connect(\"host=127.0.0.1 dbname=studentdb user=elokaj password=test123\")\n",
    "cur = conn.cursor()"
   ]
  },
  {
   "cell_type": "markdown",
   "metadata": {},
   "source": [
    "In our exercises instead of worrying about commiting each transaction or getting a strange error when we hit something unexpected, let's set autocommit to true. **This says after each call during the session commit that one action and do not hold open the transaction for any other actions. One action = one transaction.**"
   ]
  },
  {
   "cell_type": "markdown",
   "metadata": {},
   "source": [
    "In this demo we will use automatic commit so each action is commited without having to call `conn.commit()` after each command. **The ability to rollback and commit transactions are a feature of Relational Databases.**"
   ]
  },
  {
   "cell_type": "code",
   "execution_count": null,
   "metadata": {},
   "outputs": [],
   "source": [
    "conn.set_session(autocommit=True)"
   ]
  },
  {
   "cell_type": "code",
   "execution_count": null,
   "metadata": {},
   "outputs": [],
   "source": [
    "cur.execute(\"select * from test\")"
   ]
  },
  {
   "cell_type": "code",
   "execution_count": null,
   "metadata": {},
   "outputs": [],
   "source": [
    "cur.execute(\"CREATE TABLE test (col1 int, col2 int, col3 int);\")"
   ]
  },
  {
   "cell_type": "markdown",
   "metadata": {},
   "source": [
    "### Once autocommit is set to true, we execute this code successfully. There were no issues with transaction blocks and we did not need to restart our connection. "
   ]
  },
  {
   "cell_type": "code",
   "execution_count": null,
   "metadata": {},
   "outputs": [],
   "source": [
    "cur.execute(\"select * from test\")\n",
    "print(cur.fetchall())"
   ]
  },
  {
   "cell_type": "code",
   "execution_count": null,
   "metadata": {},
   "outputs": [],
   "source": [
    "cur.execute(\"select count(*) from test\")\n",
    "print(cur.fetchall())"
   ]
  }
 ],
 "metadata": {
  "kernelspec": {
   "display_name": "Python 3 (ipykernel)",
   "language": "python",
   "name": "python3"
  },
  "language_info": {
   "codemirror_mode": {
    "name": "ipython",
    "version": 3
   },
   "file_extension": ".py",
   "mimetype": "text/x-python",
   "name": "python",
   "nbconvert_exporter": "python",
   "pygments_lexer": "ipython3",
   "version": "3.9.7"
  },
  "toc": {
   "base_numbering": 1,
   "nav_menu": {},
   "number_sections": true,
   "sideBar": true,
   "skip_h1_title": false,
   "title_cell": "Table of Contents",
   "title_sidebar": "Contents",
   "toc_cell": true,
   "toc_position": {},
   "toc_section_display": true,
   "toc_window_display": true
  }
 },
 "nbformat": 4,
 "nbformat_minor": 2
}
